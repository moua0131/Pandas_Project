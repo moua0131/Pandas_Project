{
 "cells": [
  {
   "cell_type": "markdown",
   "metadata": {},
   "source": [
    "### Heroes Of Pymoli Data Analysis\n",
    "* Of the 1163 active players, the vast majority are male (84%). There also exists, a smaller, but notable proportion of female players (14%).\n",
    "\n",
    "* Our peak age demographic falls between 20-24 (44.8%) with secondary groups falling between 15-19 (18.60%) and 25-29 (13.4%).  \n",
    "-----"
   ]
  },
  {
   "cell_type": "markdown",
   "metadata": {},
   "source": [
    "### Note\n",
    "* Instructions have been included for each segment. You do not have to follow them exactly, but they are included to help you think through the steps."
   ]
  },
  {
   "cell_type": "code",
   "execution_count": 22,
   "metadata": {},
   "outputs": [],
   "source": [
    "# Dependencies and Setup\n",
    "# Imported HTML for formatting\n",
    "import pandas as pd\n",
    "import numpy as np\n",
    "from IPython.display import HTML\n",
    "\n",
    "# File to Load NOTE: File is located in Project folder on desktop, remember to change when/if moved to Github\n",
    "file_to_load = \"Resources/purchase_data.csv\"\n",
    "\n",
    "# Read Purchasing File and store into Pandas data frame\n",
    "purchase_data = pd.read_csv(file_to_load)\n"
   ]
  },
  {
   "cell_type": "markdown",
   "metadata": {},
   "source": [
    "## Player Count"
   ]
  },
  {
   "cell_type": "markdown",
   "metadata": {},
   "source": [
    "* Display the total number of players\n"
   ]
  },
  {
   "cell_type": "code",
   "execution_count": 21,
   "metadata": {},
   "outputs": [
    {
     "data": {
      "text/html": [
       "<table border=\"1\" class=\"dataframe table-bordered table-striped table-hover\">\n",
       "  <thead>\n",
       "    <tr style=\"text-align: right;\">\n",
       "      <th></th>\n",
       "      <th>Total Players</th>\n",
       "    </tr>\n",
       "  </thead>\n",
       "  <tbody>\n",
       "    <tr>\n",
       "      <th>0</th>\n",
       "      <td>576</td>\n",
       "    </tr>\n",
       "  </tbody>\n",
       "</table>"
      ],
      "text/plain": [
       "<IPython.core.display.HTML object>"
      ]
     },
     "execution_count": 21,
     "metadata": {},
     "output_type": "execute_result"
    }
   ],
   "source": [
    "#Total number of players\n",
    "Total_players = len(purchase_data['SN'].unique())\n",
    "Total_players_df = pd.DataFrame({\"Total Players\": [Total_players]})\n",
    "\n",
    "\n",
    "\n",
    "# Format the data to have a clean display. Note: help with code for formatting\n",
    "HTML(Total_players_df.to_html(classes=['table-bordered', 'table-striped', 'table-hover']))"
   ]
  },
  {
   "cell_type": "markdown",
   "metadata": {},
   "source": [
    "## Purchasing Analysis (Total)"
   ]
  },
  {
   "cell_type": "markdown",
   "metadata": {},
   "source": [
    "* Run basic calculations to obtain number of unique items, average price, etc.\n",
    "\n",
    "\n",
    "* Create a summary data frame to hold the results\n",
    "\n",
    "\n",
    "* Optional: give the displayed data cleaner formatting\n",
    "\n",
    "\n",
    "* Display the summary data frame\n"
   ]
  },
  {
   "cell_type": "code",
   "execution_count": 5,
   "metadata": {
    "scrolled": true
   },
   "outputs": [
    {
     "data": {
      "text/html": [
       "<table border=\"1\" class=\"dataframe table-bordered table-striped table-hover\">\n",
       "  <thead>\n",
       "    <tr style=\"text-align: right;\">\n",
       "      <th></th>\n",
       "      <th>Number of Unique Items</th>\n",
       "      <th>Average Price</th>\n",
       "      <th>Number of Purchases</th>\n",
       "      <th>Total Revenue</th>\n",
       "    </tr>\n",
       "  </thead>\n",
       "  <tbody>\n",
       "    <tr>\n",
       "      <th>0</th>\n",
       "      <td>183</td>\n",
       "      <td>$3.05</td>\n",
       "      <td>780</td>\n",
       "      <td>$2,379.77</td>\n",
       "    </tr>\n",
       "  </tbody>\n",
       "</table>"
      ],
      "text/plain": [
       "<IPython.core.display.HTML object>"
      ]
     },
     "execution_count": 5,
     "metadata": {},
     "output_type": "execute_result"
    }
   ],
   "source": [
    "# Lets calculate: number of unique items, average price, number of purchases and total revenue\n",
    "\n",
    "unique_items = len(purchase_data['Item ID'].unique())\n",
    "Number_of_Purchases = purchase_data['Purchase ID'].count()\n",
    "average_price = (purchase_data['Price'].sum()) / Number_of_Purchases\n",
    "Total_revenue = purchase_data['Price'].sum()\n",
    "\n",
    "\n",
    "\n",
    "# Lets make a dataframe to store summary information\n",
    "\n",
    "summary_df = pd.DataFrame({'Number of Unique Items': [unique_items], 'Average Price': [average_price],\\\n",
    "                          'Number of Purchases': [Number_of_Purchases], 'Total Revenue': [Total_revenue]})\n",
    "\n",
    "\n",
    "\n",
    "# Format the data to have a clean display\n",
    "\n",
    "summary_df['Total Revenue'] = summary_df['Total Revenue'].map(\"${0:,.2f}\".format)\n",
    "summary_df['Average Price'] = summary_df['Average Price'].map(\"${0:,.2f}\".format)\n",
    "HTML(summary_df.to_html(classes=['table-bordered', 'table-striped', 'table-hover']))"
   ]
  },
  {
   "cell_type": "markdown",
   "metadata": {},
   "source": [
    "## Gender Demographics"
   ]
  },
  {
   "cell_type": "markdown",
   "metadata": {},
   "source": [
    "* Percentage and Count of Male Players\n",
    "\n",
    "\n",
    "* Percentage and Count of Female Players\n",
    "\n",
    "\n",
    "* Percentage and Count of Other / Non-Disclosed\n",
    "\n",
    "\n"
   ]
  },
  {
   "cell_type": "code",
   "execution_count": 6,
   "metadata": {},
   "outputs": [
    {
     "data": {
      "text/html": [
       "<table border=\"1\" class=\"dataframe table-bordered table-striped table-hover\">\n",
       "  <thead>\n",
       "    <tr style=\"text-align: right;\">\n",
       "      <th></th>\n",
       "      <th>Total Count</th>\n",
       "      <th>Percentage of Players</th>\n",
       "    </tr>\n",
       "  </thead>\n",
       "  <tbody>\n",
       "    <tr>\n",
       "      <th>Male</th>\n",
       "      <td>484</td>\n",
       "      <td>84.03%</td>\n",
       "    </tr>\n",
       "    <tr>\n",
       "      <th>Female</th>\n",
       "      <td>81</td>\n",
       "      <td>14.06%</td>\n",
       "    </tr>\n",
       "    <tr>\n",
       "      <th>Other / Non-Disclosed</th>\n",
       "      <td>11</td>\n",
       "      <td>1.91%</td>\n",
       "    </tr>\n",
       "  </tbody>\n",
       "</table>"
      ],
      "text/plain": [
       "<IPython.core.display.HTML object>"
      ]
     },
     "execution_count": 6,
     "metadata": {},
     "output_type": "execute_result"
    }
   ],
   "source": [
    "# There are duplicates, lets remove duplicate SN in order to find unique count per gender\n",
    "\n",
    "sn_dup_drop = purchase_data.drop_duplicates(['SN'])\n",
    "total_count = sn_dup_drop['Gender'].count()\n",
    "\n",
    "\n",
    "\n",
    "\n",
    "# Calculate number of players by gender\n",
    "\n",
    "count_male = sn_dup_drop['Gender'].loc[sn_dup_drop['Gender'] == 'Male'].count()\n",
    "count_female = sn_dup_drop['Gender'].loc[sn_dup_drop['Gender'] == 'Female'].count()\n",
    "count_other = sn_dup_drop['Gender'].loc[sn_dup_drop['Gender'] == 'Other / Non-Disclosed'].count()\n",
    "\n",
    "\n",
    "\n",
    "\n",
    "# Calculate the percentage of players by gender. use formula count/total * 100\n",
    "\n",
    "percent_male_players = (count_male / total_count) * 100\n",
    "percent_female_players = (count_female / total_count) * 100\n",
    "percent_other_players = (count_other / total_count) * 100\n",
    "\n",
    "\n",
    "\n",
    "# Create a dataframe to store summary information\n",
    "\n",
    "gender_demographics = {'Total Count': [count_male, count_female, count_other],\\\n",
    "                       'Percentage of Players': [percent_male_players, percent_female_players, percent_other_players]}\n",
    "\n",
    "\n",
    "\n",
    "\n",
    "# Set the gender as index\n",
    "\n",
    "gender_demo_df = pd.DataFrame(data=gender_demographics, index = ['Male', 'Female', 'Other / Non-Disclosed'],\\\n",
    "                              columns = ['Total Count', 'Percentage of Players'])\n",
    "\n",
    "\n",
    "\n",
    "\n",
    "\n",
    "# Format the data to have a clean display\n",
    "\n",
    "gender_demo_df['Percentage of Players'] = gender_demo_df['Percentage of Players'].map(\"{0:,.2f}%\".format)\n",
    "\n",
    "HTML(gender_demo_df.to_html(classes=['table-bordered', 'table-striped', 'table-hover']))"
   ]
  },
  {
   "cell_type": "markdown",
   "metadata": {},
   "source": [
    "\n",
    "## Purchasing Analysis (Gender)"
   ]
  },
  {
   "cell_type": "markdown",
   "metadata": {},
   "source": [
    "* Run basic calculations to obtain purchase count, avg. purchase price, avg. purchase total per person etc. by gender\n",
    "\n",
    "\n",
    "\n",
    "\n",
    "* Create a summary data frame to hold the results\n",
    "\n",
    "\n",
    "* Optional: give the displayed data cleaner formatting\n",
    "\n",
    "\n",
    "* Display the summary data frame"
   ]
  },
  {
   "cell_type": "code",
   "execution_count": 20,
   "metadata": {},
   "outputs": [
    {
     "data": {
      "text/plain": [
       "Male                     652\n",
       "Female                   113\n",
       "Other / Non-Disclosed     15\n",
       "Name: Gender, dtype: int64"
      ]
     },
     "execution_count": 20,
     "metadata": {},
     "output_type": "execute_result"
    }
   ],
   "source": [
    "item = purchase_data.set_index('Item ID')\n",
    "item['Gender'].value_counts()\n",
    "\n"
   ]
  },
  {
   "cell_type": "markdown",
   "metadata": {},
   "source": [
    "## Age Demographics"
   ]
  },
  {
   "cell_type": "markdown",
   "metadata": {},
   "source": [
    "* Establish bins for ages\n",
    "\n",
    "\n",
    "* Categorize the existing players using the age bins. Hint: use pd.cut()\n",
    "\n",
    "\n",
    "* Calculate the numbers and percentages by age group\n",
    "\n",
    "\n",
    "* Create a summary data frame to hold the results\n",
    "\n",
    "\n",
    "* Optional: round the percentage column to two decimal points\n",
    "\n",
    "\n",
    "* Display Age Demographics Table\n"
   ]
  },
  {
   "cell_type": "code",
   "execution_count": 8,
   "metadata": {},
   "outputs": [
    {
     "data": {
      "text/html": [
       "<table border=\"1\" class=\"dataframe table-bordered table-striped table-hover\">\n",
       "  <thead>\n",
       "    <tr style=\"text-align: right;\">\n",
       "      <th></th>\n",
       "      <th>Purchase Count</th>\n",
       "      <th>Average Purchase Price</th>\n",
       "      <th>Total Purchase Value</th>\n",
       "      <th>Avg Total Purchase per Person</th>\n",
       "    </tr>\n",
       "  </thead>\n",
       "  <tbody>\n",
       "    <tr>\n",
       "      <th>Male</th>\n",
       "      <td>652</td>\n",
       "      <td>$3.02</td>\n",
       "      <td>$1,967.64</td>\n",
       "      <td>$4.07</td>\n",
       "    </tr>\n",
       "    <tr>\n",
       "      <th>Female</th>\n",
       "      <td>113</td>\n",
       "      <td>$3.20</td>\n",
       "      <td>$361.94</td>\n",
       "      <td>$4.47</td>\n",
       "    </tr>\n",
       "    <tr>\n",
       "      <th>Other / Non-Disclosed</th>\n",
       "      <td>15</td>\n",
       "      <td>$3.35</td>\n",
       "      <td>$50.19</td>\n",
       "      <td>$4.56</td>\n",
       "    </tr>\n",
       "  </tbody>\n",
       "</table>"
      ],
      "text/plain": [
       "<IPython.core.display.HTML object>"
      ]
     },
     "execution_count": 8,
     "metadata": {},
     "output_type": "execute_result"
    }
   ],
   "source": [
    "# Reset the index in the dataframe to Item ID\n",
    "item_df = purchase_data.set_index('Item ID')\n",
    "\n",
    "# Calculation of purchase count per gender\n",
    "item_male = item_df['Gender'].loc[item_df['Gender'] == 'Male'].count()\n",
    "item_female = item_df['Gender'].loc[item_df['Gender'] == 'Female'].count()\n",
    "item_other = item_df['Gender'].loc[item_df['Gender'] == 'Other / Non-Disclosed'].count()\n",
    "\n",
    "# Calculation of the average purchase price per gender\n",
    "avg_price_male = (item_df['Price'].loc[item_df['Gender'] == 'Male'].sum())/item_male\n",
    "avg_price_female = (item_df['Price'].loc[item_df['Gender'] == 'Female'].sum())/item_female\n",
    "avg_price_other = (item_df['Price'].loc[item_df['Gender'] == 'Other / Non-Disclosed'].sum())/item_other\n",
    "\n",
    "# Calculation of the total purchase value per gender\n",
    "tot_purch_male = item_df['Price'].loc[item_df['Gender'] == 'Male'].sum()\n",
    "tot_purch_female = item_df['Price'].loc[item_df['Gender'] == 'Female'].sum()\n",
    "tot_purch_other = item_df['Price'].loc[item_df['Gender'] == 'Other / Non-Disclosed'].sum()\n",
    "\n",
    "# Calculation of the average total purchase per person (exclude duplicate SN)\n",
    "avg_total_male = tot_purch_male / count_male\n",
    "avg_total_female = tot_purch_female / count_female\n",
    "avg_total_other = tot_purch_other / count_other\n",
    "\n",
    "# Create a dataframe to store the calculation\n",
    "purchase_analysis = {'Purchase Count': [item_male, item_female, item_other],\\\n",
    "                    'Average Purchase Price': [avg_price_male, avg_price_female, avg_price_other],\\\n",
    "                    'Total Purchase Value': [tot_purch_male, tot_purch_female, tot_purch_other],\\\n",
    "                    'Avg Total Purchase per Person': [avg_total_male, avg_total_female, avg_total_other]}\n",
    "\n",
    "purchase_analysis_df = pd.DataFrame(data=purchase_analysis, index = ['Male', 'Female', 'Other / Non-Disclosed'],\\\n",
    "                              columns = ['Purchase Count', 'Average Purchase Price', 'Total Purchase Value', 'Avg Total Purchase per Person'])\n",
    "\n",
    "# Format the data to have a clean display\n",
    "purchase_analysis_df['Average Purchase Price'] = purchase_analysis_df['Average Purchase Price'].map(\"${0:,.2f}\".format)\n",
    "purchase_analysis_df['Total Purchase Value'] = purchase_analysis_df['Total Purchase Value'].map(\"${0:,.2f}\".format)\n",
    "purchase_analysis_df['Avg Total Purchase per Person'] = purchase_analysis_df['Avg Total Purchase per Person'].map(\"${0:,.2f}\".format)\n",
    "\n",
    "HTML(purchase_analysis_df.to_html(classes=['table-bordered', 'table-striped', 'table-hover']))"
   ]
  },
  {
   "cell_type": "markdown",
   "metadata": {},
   "source": [
    "## Purchasing Analysis (Age)"
   ]
  },
  {
   "cell_type": "markdown",
   "metadata": {},
   "source": [
    "* Bin the purchase_data data frame by age\n",
    "\n",
    "\n",
    "* Run basic calculations to obtain purchase count, avg. purchase price, avg. purchase total per person etc. in the table below\n",
    "\n",
    "\n",
    "* Create a summary data frame to hold the results\n",
    "\n",
    "\n",
    "* Optional: give the displayed data cleaner formatting\n",
    "\n",
    "\n",
    "* Display the summary data frame"
   ]
  },
  {
   "cell_type": "code",
   "execution_count": 14,
   "metadata": {},
   "outputs": [
    {
     "data": {
      "text/html": [
       "<table border=\"1\" class=\"dataframe table-bordered table-striped table-hover\">\n",
       "  <thead>\n",
       "    <tr style=\"text-align: right;\">\n",
       "      <th></th>\n",
       "      <th>Purchase Count</th>\n",
       "      <th>Average Purchase Price</th>\n",
       "      <th>Total Purchase Value</th>\n",
       "      <th>Avg Total Purchase per Person</th>\n",
       "    </tr>\n",
       "    <tr>\n",
       "      <th>Category of players by age</th>\n",
       "      <th></th>\n",
       "      <th></th>\n",
       "      <th></th>\n",
       "      <th></th>\n",
       "    </tr>\n",
       "  </thead>\n",
       "  <tbody>\n",
       "    <tr>\n",
       "      <th>&lt;10</th>\n",
       "      <td>23</td>\n",
       "      <td>$3.35</td>\n",
       "      <td>$77.13</td>\n",
       "      <td>$4.54</td>\n",
       "    </tr>\n",
       "    <tr>\n",
       "      <th>10-14</th>\n",
       "      <td>28</td>\n",
       "      <td>$2.96</td>\n",
       "      <td>$82.78</td>\n",
       "      <td>$3.76</td>\n",
       "    </tr>\n",
       "    <tr>\n",
       "      <th>15-19</th>\n",
       "      <td>136</td>\n",
       "      <td>$3.04</td>\n",
       "      <td>$412.89</td>\n",
       "      <td>$3.86</td>\n",
       "    </tr>\n",
       "    <tr>\n",
       "      <th>20-24</th>\n",
       "      <td>365</td>\n",
       "      <td>$3.05</td>\n",
       "      <td>$1,114.06</td>\n",
       "      <td>$4.32</td>\n",
       "    </tr>\n",
       "    <tr>\n",
       "      <th>25-29</th>\n",
       "      <td>101</td>\n",
       "      <td>$2.90</td>\n",
       "      <td>$293.00</td>\n",
       "      <td>$3.81</td>\n",
       "    </tr>\n",
       "    <tr>\n",
       "      <th>30-34</th>\n",
       "      <td>73</td>\n",
       "      <td>$2.93</td>\n",
       "      <td>$214.00</td>\n",
       "      <td>$4.12</td>\n",
       "    </tr>\n",
       "    <tr>\n",
       "      <th>35-39</th>\n",
       "      <td>41</td>\n",
       "      <td>$3.60</td>\n",
       "      <td>$147.67</td>\n",
       "      <td>$4.76</td>\n",
       "    </tr>\n",
       "    <tr>\n",
       "      <th>40+</th>\n",
       "      <td>13</td>\n",
       "      <td>$2.94</td>\n",
       "      <td>$38.24</td>\n",
       "      <td>$3.19</td>\n",
       "    </tr>\n",
       "  </tbody>\n",
       "</table>"
      ],
      "text/plain": [
       "<IPython.core.display.HTML object>"
      ]
     },
     "execution_count": 14,
     "metadata": {},
     "output_type": "execute_result"
    }
   ],
   "source": [
    "# Create a new bin for purchase data data frame by age.  Make bins relate to catergory by age\n",
    "bins_p = [0, 9, 14, 19, 24, 29, 34, 39, 100]\n",
    "group_name_player = ['<10', '10-14', '15-19', '20-24', '25-29', '30-34', '35-39', '40+']\n",
    "\n",
    "\n",
    "\n",
    "\n",
    "# Reset the index from Category of players by age to the default\n",
    "purchase_reset = purchase_data.reset_index(drop=True)\n",
    "\n",
    "\n",
    "\n",
    "\n",
    "\n",
    "# Slice the data and place it into bins\n",
    "purchase_reset['Category of players by age'] = pd.cut(purchase_reset['Age'], bins_p, labels=group_name_player )\n",
    "\n",
    "\n",
    "\n",
    "\n",
    "\n",
    "# Group the data by Category of players by age and run calculation\n",
    "bin_group_cat = purchase_reset.groupby('Category of players by age')\n",
    "count_cat = bin_group_cat['Purchase ID'].count()\n",
    "avg_cat = bin_group_cat['Price'].mean()\n",
    "total_cat = bin_group_cat['Price'].sum()\n",
    "\n",
    "\n",
    "\n",
    "\n",
    "# Delete duplicate 'SN' in order to calculate the average total purchase per person\n",
    "dup_drop_cat = purchase_reset.drop_duplicates(['SN'])\n",
    "u=dup_drop_cat['SN'].count()\n",
    "avg_cat_pers = bin_group_cat['Price'].sum() / dup_drop_cat.groupby('Category of players by age')['SN'].count()\n",
    "\n",
    "\n",
    "\n",
    "\n",
    "\n",
    "# Create a new data frame to store summary purchase analysis\n",
    "\n",
    "purchase_analysis_df = pd.DataFrame(count_cat)\n",
    "\n",
    "\n",
    "\n",
    "\n",
    "\n",
    "# Renaming Purchase ID columns to Purchase count\n",
    "purchase_analysis_df = purchase_analysis_df.rename(columns={'Purchase ID': 'Purchase Count'})\n",
    "\n",
    "purchase_analysis_df['Average Purchase Price'] = avg_cat\n",
    "purchase_analysis_df['Total Purchase Value'] = total_cat\n",
    "purchase_analysis_df['Avg Total Purchase per Person'] = avg_cat_pers\n",
    "\n",
    "\n",
    "\n",
    "\n",
    "# Format the data to have a clean display\n",
    "purchase_analysis_df['Average Purchase Price'] = purchase_analysis_df['Average Purchase Price'].map(\"${0:,.2f}\".format)\n",
    "purchase_analysis_df['Total Purchase Value'] = purchase_analysis_df['Total Purchase Value'].map(\"${0:,.2f}\".format)\n",
    "purchase_analysis_df['Avg Total Purchase per Person'] = purchase_analysis_df['Avg Total Purchase per Person'].\\\n",
    "map(\"${0:,.2f}\".format)\n",
    "\n",
    "HTML(purchase_analysis_df.to_html(classes=['table-bordered', 'table-striped', 'table-hover']))"
   ]
  },
  {
   "cell_type": "markdown",
   "metadata": {},
   "source": [
    "## Top Spenders"
   ]
  },
  {
   "cell_type": "markdown",
   "metadata": {},
   "source": [
    "* Run basic calculations to obtain the results in the table below\n",
    "\n",
    "\n",
    "* Create a summary data frame to hold the results\n",
    "\n",
    "\n",
    "* Sort the total purchase value column in descending order\n",
    "\n",
    "\n",
    "* Optional: give the displayed data cleaner formatting\n",
    "\n",
    "\n",
    "* Display a preview of the summary data frame\n",
    "\n"
   ]
  },
  {
   "cell_type": "code",
   "execution_count": 10,
   "metadata": {},
   "outputs": [
    {
     "data": {
      "text/html": [
       "<table border=\"1\" class=\"dataframe table-bordered table-striped table-hover\">\n",
       "  <thead>\n",
       "    <tr style=\"text-align: right;\">\n",
       "      <th></th>\n",
       "      <th>Purchase Count</th>\n",
       "      <th>Average Purchase Price</th>\n",
       "      <th>Total Purchase Value</th>\n",
       "    </tr>\n",
       "    <tr>\n",
       "      <th>SN</th>\n",
       "      <th></th>\n",
       "      <th></th>\n",
       "      <th></th>\n",
       "    </tr>\n",
       "  </thead>\n",
       "  <tbody>\n",
       "    <tr>\n",
       "      <th>Lisosia93</th>\n",
       "      <td>5</td>\n",
       "      <td>$3.79</td>\n",
       "      <td>$18.96</td>\n",
       "    </tr>\n",
       "    <tr>\n",
       "      <th>Idastidru52</th>\n",
       "      <td>4</td>\n",
       "      <td>$3.86</td>\n",
       "      <td>$15.45</td>\n",
       "    </tr>\n",
       "    <tr>\n",
       "      <th>Chamjask73</th>\n",
       "      <td>3</td>\n",
       "      <td>$4.61</td>\n",
       "      <td>$13.83</td>\n",
       "    </tr>\n",
       "    <tr>\n",
       "      <th>Iral74</th>\n",
       "      <td>4</td>\n",
       "      <td>$3.40</td>\n",
       "      <td>$13.62</td>\n",
       "    </tr>\n",
       "    <tr>\n",
       "      <th>Iskadarya95</th>\n",
       "      <td>3</td>\n",
       "      <td>$4.37</td>\n",
       "      <td>$13.10</td>\n",
       "    </tr>\n",
       "  </tbody>\n",
       "</table>"
      ],
      "text/plain": [
       "<IPython.core.display.HTML object>"
      ]
     },
     "execution_count": 10,
     "metadata": {},
     "output_type": "execute_result"
    }
   ],
   "source": [
    "# Group dataframe by SN in order to calculate the total purchase count\n",
    "top_purch_df = purchase_reset.groupby('SN')\n",
    "count_top = top_purch_df['Item ID'].count()\n",
    "avg_top = top_purch_df['Price'].mean()\n",
    "total_top = top_purch_df['Price'].sum()\n",
    "\n",
    "top_spender_df = pd.DataFrame(count_top)\n",
    "\n",
    "\n",
    "\n",
    "\n",
    "\n",
    "# Renaming Purchase ID columns to Purchase count\n",
    "top_spender_df = top_spender_df.rename(columns={'Item ID': 'Purchase Count'})\n",
    "\n",
    "top_spender_df['Average Purchase Price'] = avg_top\n",
    "top_spender_df['Total Purchase Value'] = total_top\n",
    "\n",
    "\n",
    "\n",
    "\n",
    "# Sort the data to find the top spenders\n",
    "\n",
    "sort_top_spender= top_spender_df.sort_values(['Total Purchase Value'], ascending=False)\n",
    "\n",
    "\n",
    "\n",
    "\n",
    "# Format the data to have a clean display\n",
    "sort_top_spender['Average Purchase Price'] = sort_top_spender['Average Purchase Price'].map(\"${0:,.2f}\".format)\n",
    "sort_top_spender['Total Purchase Value'] = sort_top_spender['Total Purchase Value'].map(\"${0:,.2f}\".format)\n",
    "\n",
    "\n",
    "HTML(sort_top_spender.head().to_html(classes=['table-bordered', 'table-striped', 'table-hover']))"
   ]
  },
  {
   "cell_type": "markdown",
   "metadata": {},
   "source": [
    "## Most Popular Items"
   ]
  },
  {
   "cell_type": "markdown",
   "metadata": {},
   "source": [
    "* Retrieve the Item ID, Item Name, and Item Price columns\n",
    "\n",
    "\n",
    "* Group by Item ID and Item Name. Perform calculations to obtain purchase count, item price, and total purchase value\n",
    "\n",
    "\n",
    "* Create a summary data frame to hold the results\n",
    "\n",
    "\n",
    "* Sort the purchase count column in descending order\n",
    "\n",
    "\n",
    "* Optional: give the displayed data cleaner formatting\n",
    "\n",
    "\n",
    "* Display a preview of the summary data frame\n",
    "\n"
   ]
  },
  {
   "cell_type": "code",
   "execution_count": 11,
   "metadata": {},
   "outputs": [
    {
     "data": {
      "text/html": [
       "<table border=\"1\" class=\"dataframe table-bordered table-striped table-hover\">\n",
       "  <thead>\n",
       "    <tr style=\"text-align: right;\">\n",
       "      <th></th>\n",
       "      <th></th>\n",
       "      <th>Purchase Count</th>\n",
       "      <th>Item Price</th>\n",
       "      <th>Total Purchase Value</th>\n",
       "    </tr>\n",
       "    <tr>\n",
       "      <th>Item ID</th>\n",
       "      <th>Item Name</th>\n",
       "      <th></th>\n",
       "      <th></th>\n",
       "      <th></th>\n",
       "    </tr>\n",
       "  </thead>\n",
       "  <tbody>\n",
       "    <tr>\n",
       "      <th>178</th>\n",
       "      <th>Oathbreaker, Last Hope of the Breaking Storm</th>\n",
       "      <td>12</td>\n",
       "      <td>$4.23</td>\n",
       "      <td>$50.76</td>\n",
       "    </tr>\n",
       "    <tr>\n",
       "      <th>145</th>\n",
       "      <th>Fiery Glass Crusader</th>\n",
       "      <td>9</td>\n",
       "      <td>$4.58</td>\n",
       "      <td>$41.22</td>\n",
       "    </tr>\n",
       "    <tr>\n",
       "      <th>108</th>\n",
       "      <th>Extraction, Quickblade Of Trembling Hands</th>\n",
       "      <td>9</td>\n",
       "      <td>$3.53</td>\n",
       "      <td>$31.77</td>\n",
       "    </tr>\n",
       "    <tr>\n",
       "      <th>82</th>\n",
       "      <th>Nirvana</th>\n",
       "      <td>9</td>\n",
       "      <td>$4.90</td>\n",
       "      <td>$44.10</td>\n",
       "    </tr>\n",
       "    <tr>\n",
       "      <th>19</th>\n",
       "      <th>Pursuit, Cudgel of Necromancy</th>\n",
       "      <td>8</td>\n",
       "      <td>$1.02</td>\n",
       "      <td>$8.16</td>\n",
       "    </tr>\n",
       "  </tbody>\n",
       "</table>"
      ],
      "text/plain": [
       "<IPython.core.display.HTML object>"
      ]
     },
     "execution_count": 11,
     "metadata": {},
     "output_type": "execute_result"
    }
   ],
   "source": [
    "# Retrieve the Item ID, Item Name, and Item Price Columns\n",
    "pop_purch_pop = purchase_reset[['Item ID', 'Item Name', 'Price']]\n",
    "\n",
    "# Group by Item ID and Item Name\n",
    "pop_purch_df = pop_purch_pop.groupby(['Item ID', 'Item Name'])\n",
    "\n",
    "# Perform calculations to obtain purchase count, item price, and total purchase value\n",
    "count_pop = pop_purch_df['Item ID'].count()\n",
    "total_pop = pop_purch_df['Price'].sum()\n",
    "price_pop = total_pop / count_pop\n",
    "\n",
    "pop_df = pd.DataFrame(count_pop)\n",
    "\n",
    "# Renaming Purchase ID columns to Purchase count\n",
    "pop_df = pop_df.rename(columns={'Item ID': 'Purchase Count'})\n",
    "pop_df['Item Price'] = price_pop\n",
    "pop_df['Total Purchase Value'] = total_pop\n",
    "\n",
    "\n",
    "# Sort the data to find the most popular items\n",
    "\n",
    "sort_pop = pop_df.sort_values(['Purchase Count'], ascending=False)\n",
    "\n",
    "# Format the data to have a clean display\n",
    "sort_pop['Item Price'] = sort_pop['Item Price'].map(\"${0:,.2f}\".format)\n",
    "sort_pop['Total Purchase Value'] = sort_pop['Total Purchase Value'].map(\"${0:,.2f}\".format)\n",
    "\n",
    "HTML(sort_pop.head().to_html(classes=['table-bordered', 'table-striped', 'table-hover']))"
   ]
  },
  {
   "cell_type": "markdown",
   "metadata": {},
   "source": [
    "## Most Profitable Items"
   ]
  },
  {
   "cell_type": "markdown",
   "metadata": {},
   "source": [
    "* Sort the above table by total purchase value in descending order\n",
    "\n",
    "\n",
    "* Optional: give the displayed data cleaner formatting\n",
    "\n",
    "\n",
    "* Display a preview of the data frame\n",
    "\n"
   ]
  },
  {
   "cell_type": "code",
   "execution_count": 12,
   "metadata": {
    "scrolled": true
   },
   "outputs": [
    {
     "data": {
      "text/html": [
       "<table border=\"1\" class=\"dataframe table-bordered table-striped table-hover\">\n",
       "  <thead>\n",
       "    <tr style=\"text-align: right;\">\n",
       "      <th></th>\n",
       "      <th></th>\n",
       "      <th>Purchase Count</th>\n",
       "      <th>Item Price</th>\n",
       "      <th>Total Purchase Value</th>\n",
       "    </tr>\n",
       "    <tr>\n",
       "      <th>Item ID</th>\n",
       "      <th>Item Name</th>\n",
       "      <th></th>\n",
       "      <th></th>\n",
       "      <th></th>\n",
       "    </tr>\n",
       "  </thead>\n",
       "  <tbody>\n",
       "    <tr>\n",
       "      <th>178</th>\n",
       "      <th>Oathbreaker, Last Hope of the Breaking Storm</th>\n",
       "      <td>12</td>\n",
       "      <td>$4.23</td>\n",
       "      <td>$50.76</td>\n",
       "    </tr>\n",
       "    <tr>\n",
       "      <th>82</th>\n",
       "      <th>Nirvana</th>\n",
       "      <td>9</td>\n",
       "      <td>$4.90</td>\n",
       "      <td>$44.10</td>\n",
       "    </tr>\n",
       "    <tr>\n",
       "      <th>145</th>\n",
       "      <th>Fiery Glass Crusader</th>\n",
       "      <td>9</td>\n",
       "      <td>$4.58</td>\n",
       "      <td>$41.22</td>\n",
       "    </tr>\n",
       "    <tr>\n",
       "      <th>92</th>\n",
       "      <th>Final Critic</th>\n",
       "      <td>8</td>\n",
       "      <td>$4.88</td>\n",
       "      <td>$39.04</td>\n",
       "    </tr>\n",
       "    <tr>\n",
       "      <th>103</th>\n",
       "      <th>Singed Scalpel</th>\n",
       "      <td>8</td>\n",
       "      <td>$4.35</td>\n",
       "      <td>$34.80</td>\n",
       "    </tr>\n",
       "  </tbody>\n",
       "</table>"
      ],
      "text/plain": [
       "<IPython.core.display.HTML object>"
      ]
     },
     "execution_count": 12,
     "metadata": {},
     "output_type": "execute_result"
    }
   ],
   "source": [
    "sort_pop = pop_df.sort_values(['Total Purchase Value'], ascending=False)\n",
    "\n",
    "\n",
    "sort_pop['Item Price'] = sort_pop['Item Price'].map(\"${0:,.2f}\".format)\n",
    "sort_pop['Total Purchase Value'] = sort_pop['Total Purchase Value'].map(\"${0:,.2f}\".format)\n",
    "\n",
    "\n",
    "# Format the data to have a clean display\n",
    "HTML(sort_pop.head().to_html(classes=['table-bordered', 'table-striped', 'table-hover']))"
   ]
  },
  {
   "cell_type": "code",
   "execution_count": null,
   "metadata": {},
   "outputs": [],
   "source": [
    "#Answer homework questions here? IN HERE"
   ]
  }
 ],
 "metadata": {
  "anaconda-cloud": {},
  "kernel_info": {
   "name": "python3"
  },
  "kernelspec": {
   "display_name": "Python 3",
   "language": "python",
   "name": "python3"
  },
  "language_info": {
   "codemirror_mode": {
    "name": "ipython",
    "version": 3
   },
   "file_extension": ".py",
   "mimetype": "text/x-python",
   "name": "python",
   "nbconvert_exporter": "python",
   "pygments_lexer": "ipython3",
   "version": "3.7.3"
  },
  "nteract": {
   "version": "0.2.0"
  }
 },
 "nbformat": 4,
 "nbformat_minor": 2
}
